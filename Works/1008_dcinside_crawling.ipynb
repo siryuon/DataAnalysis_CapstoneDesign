{
 "cells": [
  {
   "cell_type": "code",
   "execution_count": 1,
   "id": "f83fc851",
   "metadata": {},
   "outputs": [],
   "source": [
    "import requests\n",
    "from urllib import request\n",
    "from bs4 import BeautifulSoup"
   ]
  },
  {
   "cell_type": "code",
   "execution_count": 9,
   "id": "469af864",
   "metadata": {},
   "outputs": [],
   "source": [
    "BASE_URL = \"https://gall.dcinside.com/board/lists/?id=baseball_new10\"\n",
    "Domain_URL = \"https://gall.dcinside.com\"\n",
    "headers = [ {'User-Agent' : ''}, ]"
   ]
  },
  {
   "cell_type": "code",
   "execution_count": 18,
   "id": "ad67b3f8",
   "metadata": {},
   "outputs": [],
   "source": [
    "import csv\n",
    "comments = []\n",
    "for p in range(1, 201):\n",
    "    response = requests.get(BASE_URL + '&page=' + str(p), headers=headers[0]) \n",
    "    soup = BeautifulSoup(response.content, 'html.parser') \n",
    "    html_list = soup.find('tbody').find_all('tr')\n",
    "    for i in html_list:\n",
    "        title_list = i.find('a', href=True).text\n",
    "        comments.append(title_list)\n",
    "        \n",
    "with open('dcinside.txt','w', encoding='utf-8') as file :\n",
    "    for c in comments:\n",
    "        file.write(c+'\\n')"
   ]
  }
 ],
 "metadata": {
  "kernelspec": {
   "display_name": "capstone",
   "language": "python",
   "name": "capstone"
  },
  "language_info": {
   "codemirror_mode": {
    "name": "ipython",
    "version": 3
   },
   "file_extension": ".py",
   "mimetype": "text/x-python",
   "name": "python",
   "nbconvert_exporter": "python",
   "pygments_lexer": "ipython3",
   "version": "3.7.11"
  }
 },
 "nbformat": 4,
 "nbformat_minor": 5
}
