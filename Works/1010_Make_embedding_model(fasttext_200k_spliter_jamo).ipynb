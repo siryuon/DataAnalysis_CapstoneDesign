{
 "cells": [
  {
   "cell_type": "code",
   "execution_count": 3,
   "id": "b27d5542",
   "metadata": {},
   "outputs": [],
   "source": [
    "import re\n",
    "import pandas as pd\n",
    "\n",
    "pattern = re.compile('[^ㄱ-ㅎㅏ-ㅣ가-힣]')\n",
    "unlabel_data1 = open('./unlabeled/unlabeled_comments_1.txt', 'r', encoding='utf-8')\n",
    "unlabel_data2 = open('./unlabeled/unlabeled_comments_2.txt', 'r', encoding='utf-8')\n",
    "unlabel_data3 = open('./unlabeled/unlabeled_comments_3.txt', 'r', encoding='utf-8')\n",
    "unlabel_data4 = open('./unlabeled/unlabeled_comments_4.txt', 'r', encoding='utf-8')\n",
    "unlabel_data5 = open('./unlabeled/unlabeled_comments_5.txt', 'r', encoding='utf-8')\n",
    "text=[]\n",
    "\n",
    "for d in unlabel_data1:\n",
    "    d = d.strip()\n",
    "    d = re.sub(pattern, ' ', d)\n",
    "    text.append(d)\n",
    "for d in unlabel_data2:\n",
    "    d = d.strip()\n",
    "    d = re.sub(pattern, ' ', d)\n",
    "    text.append(d)\n",
    "for d in unlabel_data3:\n",
    "    d = d.strip()\n",
    "    d = re.sub(pattern, ' ', d)\n",
    "    text.append(d)\n",
    "for d in unlabel_data4:\n",
    "    d = d.strip()\n",
    "    d = re.sub(pattern, ' ', d)\n",
    "    text.append(d)\n",
    "for d in unlabel_data5:\n",
    "    d = d.strip()\n",
    "    d = re.sub(pattern, ' ', d)\n",
    "    text.append(d)\n",
    "\n",
    "unlabel = pd.DataFrame({'comments': text})"
   ]
  },
  {
   "cell_type": "code",
   "execution_count": 4,
   "id": "4ce21dc6",
   "metadata": {},
   "outputs": [
    {
     "data": {
      "text/html": [
       "<div>\n",
       "<style scoped>\n",
       "    .dataframe tbody tr th:only-of-type {\n",
       "        vertical-align: middle;\n",
       "    }\n",
       "\n",
       "    .dataframe tbody tr th {\n",
       "        vertical-align: top;\n",
       "    }\n",
       "\n",
       "    .dataframe thead th {\n",
       "        text-align: right;\n",
       "    }\n",
       "</style>\n",
       "<table border=\"1\" class=\"dataframe\">\n",
       "  <thead>\n",
       "    <tr style=\"text-align: right;\">\n",
       "      <th></th>\n",
       "      <th>comments</th>\n",
       "    </tr>\n",
       "  </thead>\n",
       "  <tbody>\n",
       "    <tr>\n",
       "      <th>0</th>\n",
       "      <td>지드래곤은 난봉꾼이란   댓글도 달렸네 ㅋㅋ 이주연 학창시절 사진 보고 와라  요즘...</td>\n",
       "    </tr>\n",
       "    <tr>\n",
       "      <th>1</th>\n",
       "      <td>이주연은 알겠는데 지디는 뭐하는 듣보잡여</td>\n",
       "    </tr>\n",
       "    <tr>\n",
       "      <th>2</th>\n",
       "      <td>부럽네요  나도 불과 한달전까진 허니문베이비를 꿈꿨는데 이제 다 부질없네요  당연히...</td>\n",
       "    </tr>\n",
       "    <tr>\n",
       "      <th>3</th>\n",
       "      <td>이주연을 모르는 애들이 많네  해체된 애프터스쿨 멤버로 당시는 주연이 예명  인기나...</td>\n",
       "    </tr>\n",
       "    <tr>\n",
       "      <th>4</th>\n",
       "      <td>겨론했으면</td>\n",
       "    </tr>\n",
       "    <tr>\n",
       "      <th>...</th>\n",
       "      <td>...</td>\n",
       "    </tr>\n",
       "    <tr>\n",
       "      <th>2033888</th>\n",
       "      <td>오메 너무귀엽당</td>\n",
       "    </tr>\n",
       "    <tr>\n",
       "      <th>2033889</th>\n",
       "      <td>너무 예뿐 담호 ㅠㅠㅠㅠㅠㅠ 잘 보고 있어요 예쁜 필연부부</td>\n",
       "    </tr>\n",
       "    <tr>\n",
       "      <th>2033890</th>\n",
       "      <td>어머     예뻐라</td>\n",
       "    </tr>\n",
       "    <tr>\n",
       "      <th>2033891</th>\n",
       "      <td>귀여워 역시 이쁘다 아가들 천사에요</td>\n",
       "    </tr>\n",
       "    <tr>\n",
       "      <th>2033892</th>\n",
       "      <td>정말 엄마 판박이네요   너무 귀여워요둘째는 잘생긴 아빠 닮은 딸 기대해보아요</td>\n",
       "    </tr>\n",
       "  </tbody>\n",
       "</table>\n",
       "<p>2033893 rows × 1 columns</p>\n",
       "</div>"
      ],
      "text/plain": [
       "                                                  comments\n",
       "0        지드래곤은 난봉꾼이란   댓글도 달렸네 ㅋㅋ 이주연 학창시절 사진 보고 와라  요즘...\n",
       "1                                   이주연은 알겠는데 지디는 뭐하는 듣보잡여\n",
       "2        부럽네요  나도 불과 한달전까진 허니문베이비를 꿈꿨는데 이제 다 부질없네요  당연히...\n",
       "3        이주연을 모르는 애들이 많네  해체된 애프터스쿨 멤버로 당시는 주연이 예명  인기나...\n",
       "4                                                    겨론했으면\n",
       "...                                                    ...\n",
       "2033888                                      오메 너무귀엽당     \n",
       "2033889                너무 예뿐 담호 ㅠㅠㅠㅠㅠㅠ 잘 보고 있어요 예쁜 필연부부   \n",
       "2033890                                  어머     예뻐라       \n",
       "2033891                                귀여워 역시 이쁘다 아가들 천사에요\n",
       "2033892      정말 엄마 판박이네요   너무 귀여워요둘째는 잘생긴 아빠 닮은 딸 기대해보아요  \n",
       "\n",
       "[2033893 rows x 1 columns]"
      ]
     },
     "execution_count": 4,
     "metadata": {},
     "output_type": "execute_result"
    }
   ],
   "source": [
    "unlabel"
   ]
  },
  {
   "cell_type": "code",
   "execution_count": 5,
   "id": "6b6ead24",
   "metadata": {},
   "outputs": [],
   "source": [
    "from jamo import h2j, j2hcj\n",
    "\n",
    "def spliter(text):\n",
    "    return j2hcj(h2j(text))"
   ]
  },
  {
   "cell_type": "code",
   "execution_count": 6,
   "id": "83666819",
   "metadata": {},
   "outputs": [],
   "source": [
    "unlabel['comments'] = unlabel['comments'].apply(lambda x: spliter(x))\n",
    "unlabel['comments'] = unlabel['comments'].apply(lambda x: x.split(' '))"
   ]
  },
  {
   "cell_type": "code",
   "execution_count": 7,
   "id": "e3bc1a72",
   "metadata": {},
   "outputs": [],
   "source": [
    "comment_list = list(unlabel['comments'])"
   ]
  },
  {
   "cell_type": "code",
   "execution_count": 8,
   "id": "1caea2d5",
   "metadata": {},
   "outputs": [],
   "source": [
    "from gensim.models import FastText\n",
    "model = FastText(comment_list, size=50, window=3, min_count=3, workers=4, sg=1, min_n=3, max_n=6, iter=10)"
   ]
  },
  {
   "cell_type": "code",
   "execution_count": 9,
   "id": "85081cee",
   "metadata": {},
   "outputs": [],
   "source": [
    "model.save('./fasttext_200k_spliter.model')"
   ]
  },
  {
   "cell_type": "code",
   "execution_count": 21,
   "id": "c2e9263f",
   "metadata": {},
   "outputs": [
    {
     "name": "stderr",
     "output_type": "stream",
     "text": [
      "C:\\Users\\siryu\\anaconda3\\envs\\capstone\\lib\\site-packages\\ipykernel_launcher.py:1: DeprecationWarning: Call to deprecated `most_similar` (Method will be removed in 4.0.0, use self.wv.most_similar() instead).\n",
      "  \"\"\"Entry point for launching an IPython kernel.\n"
     ]
    },
    {
     "data": {
      "text/plain": [
       "[('ㅁㅟㅈㅣ', 0.9010911583900452),\n",
       " ('ㄷㅗㅍㅣㅈㅣ', 0.883407711982727),\n",
       " ('ㄱㅊㅈㅣ', 0.8704867362976074),\n",
       " ('ㅊㅐㅈㅣ', 0.8697860836982727),\n",
       " ('ㅁㅏㅇㅣㄹㄹㅣㅈㅣ', 0.8694459795951843),\n",
       " ('ㄷㅔㅈㅣ', 0.8672894239425659),\n",
       " ('ㄹㅣㄴㅣㅈㅣ', 0.8630250692367554),\n",
       " ('ㅋㅈㅣ', 0.8601334095001221),\n",
       " ('ㅅㅡㅈㅣ', 0.8597970008850098),\n",
       " ('ㅋㅐㅈㅣ', 0.8589297533035278)]"
      ]
     },
     "execution_count": 21,
     "metadata": {},
     "output_type": "execute_result"
    }
   ],
   "source": [
    "model.most_similar(spliter('뷰지'))"
   ]
  },
  {
   "cell_type": "code",
   "execution_count": null,
   "id": "84404884",
   "metadata": {},
   "outputs": [],
   "source": []
  }
 ],
 "metadata": {
  "kernelspec": {
   "display_name": "capstone",
   "language": "python",
   "name": "capstone"
  },
  "language_info": {
   "codemirror_mode": {
    "name": "ipython",
    "version": 3
   },
   "file_extension": ".py",
   "mimetype": "text/x-python",
   "name": "python",
   "nbconvert_exporter": "python",
   "pygments_lexer": "ipython3",
   "version": "3.7.11"
  }
 },
 "nbformat": 4,
 "nbformat_minor": 5
}
