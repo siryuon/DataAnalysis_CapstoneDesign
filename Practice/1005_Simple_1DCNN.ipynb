{
 "cells": [
  {
   "cell_type": "code",
   "execution_count": 30,
   "id": "26208f97",
   "metadata": {},
   "outputs": [
    {
     "name": "stderr",
     "output_type": "stream",
     "text": [
      "C:\\Users\\siryu\\anaconda3\\envs\\capstone\\lib\\site-packages\\ipykernel_launcher.py:6: FutureWarning: The default value of regex will change from True to False in a future version.\n",
      "  \n"
     ]
    }
   ],
   "source": [
    "import pandas as pd\n",
    "import re\n",
    "pattern = re.compile('[^ㄱ-ㅎㅏ-ㅣ가-힣]')\n",
    "data = open('unlabeled/unlabeled_comments_1.txt', 'r', encoding='utf-8')\n",
    "df = pd.read_csv('hate_train.csv', encoding='ANSI')\n",
    "df['comments'] = df['comments'].str.replace('[^ㄱ-ㅎ ㅏ-ㅣ 가-힣]','')"
   ]
  },
  {
   "cell_type": "code",
   "execution_count": 31,
   "id": "2cf1e8d2",
   "metadata": {},
   "outputs": [
    {
     "data": {
      "text/html": [
       "<div>\n",
       "<style scoped>\n",
       "    .dataframe tbody tr th:only-of-type {\n",
       "        vertical-align: middle;\n",
       "    }\n",
       "\n",
       "    .dataframe tbody tr th {\n",
       "        vertical-align: top;\n",
       "    }\n",
       "\n",
       "    .dataframe thead th {\n",
       "        text-align: right;\n",
       "    }\n",
       "</style>\n",
       "<table border=\"1\" class=\"dataframe\">\n",
       "  <thead>\n",
       "    <tr style=\"text-align: right;\">\n",
       "      <th></th>\n",
       "      <th>comments</th>\n",
       "      <th>hate</th>\n",
       "    </tr>\n",
       "  </thead>\n",
       "  <tbody>\n",
       "    <tr>\n",
       "      <th>0</th>\n",
       "      <td>현재 호텔주인 심정 아 난 마른하늘에 날벼락맞고 호텔망하게생겼는데 누군 계속 추모받네</td>\n",
       "      <td>1</td>\n",
       "    </tr>\n",
       "    <tr>\n",
       "      <th>1</th>\n",
       "      <td>한국적인 미인의 대표적인 분너무나 곱고아름다운모습그모습뒤의 슬픔을 미처 알지못했네요ㅠ</td>\n",
       "      <td>0</td>\n",
       "    </tr>\n",
       "    <tr>\n",
       "      <th>2</th>\n",
       "      <td>못된 넘들남의 고통을 즐겼던 넘들이젠 마땅한 처벌을 받아야지그래야 공정한 사회지심은...</td>\n",
       "      <td>1</td>\n",
       "    </tr>\n",
       "    <tr>\n",
       "      <th>3</th>\n",
       "      <td>화 어설펐는데 화 지나서부터는 갈수록 너무 재밌던데</td>\n",
       "      <td>0</td>\n",
       "    </tr>\n",
       "    <tr>\n",
       "      <th>4</th>\n",
       "      <td>사람 얼굴 손톱으로 긁은것은 인격살해이고 동영상이 몰카냐 메걸리안들 생각이 없노</td>\n",
       "      <td>1</td>\n",
       "    </tr>\n",
       "    <tr>\n",
       "      <th>...</th>\n",
       "      <td>...</td>\n",
       "      <td>...</td>\n",
       "    </tr>\n",
       "    <tr>\n",
       "      <th>14187</th>\n",
       "      <td>좌우 헬파이어 개씩 개 장착에 아파치보다 약하지만  기관포 장착임</td>\n",
       "      <td>0</td>\n",
       "    </tr>\n",
       "    <tr>\n",
       "      <th>14188</th>\n",
       "      <td>세금 내놓으라고 데모질 중 ㅋㅋ간첩 도둑놈 새끼들이 대통령 해처먹으니까  나도 같이...</td>\n",
       "      <td>1</td>\n",
       "    </tr>\n",
       "    <tr>\n",
       "      <th>14189</th>\n",
       "      <td>너가 한 말 중에</td>\n",
       "      <td>0</td>\n",
       "    </tr>\n",
       "    <tr>\n",
       "      <th>14190</th>\n",
       "      <td>제갈대중 ㅇㅂ</td>\n",
       "      <td>0</td>\n",
       "    </tr>\n",
       "    <tr>\n",
       "      <th>14191</th>\n",
       "      <td>우리나라교회는 악마들이모여 주뎅이 처벌리고</td>\n",
       "      <td>1</td>\n",
       "    </tr>\n",
       "  </tbody>\n",
       "</table>\n",
       "<p>14192 rows × 2 columns</p>\n",
       "</div>"
      ],
      "text/plain": [
       "                                                comments  hate\n",
       "0        현재 호텔주인 심정 아 난 마른하늘에 날벼락맞고 호텔망하게생겼는데 누군 계속 추모받네     1\n",
       "1        한국적인 미인의 대표적인 분너무나 곱고아름다운모습그모습뒤의 슬픔을 미처 알지못했네요ㅠ     0\n",
       "2      못된 넘들남의 고통을 즐겼던 넘들이젠 마땅한 처벌을 받아야지그래야 공정한 사회지심은...     1\n",
       "3                           화 어설펐는데 화 지나서부터는 갈수록 너무 재밌던데     0\n",
       "4           사람 얼굴 손톱으로 긁은것은 인격살해이고 동영상이 몰카냐 메걸리안들 생각이 없노     1\n",
       "...                                                  ...   ...\n",
       "14187               좌우 헬파이어 개씩 개 장착에 아파치보다 약하지만  기관포 장착임     0\n",
       "14188  세금 내놓으라고 데모질 중 ㅋㅋ간첩 도둑놈 새끼들이 대통령 해처먹으니까  나도 같이...     1\n",
       "14189                                          너가 한 말 중에     0\n",
       "14190                                            제갈대중 ㅇㅂ     0\n",
       "14191                           우리나라교회는 악마들이모여 주뎅이 처벌리고      1\n",
       "\n",
       "[14192 rows x 2 columns]"
      ]
     },
     "execution_count": 31,
     "metadata": {},
     "output_type": "execute_result"
    }
   ],
   "source": [
    "df"
   ]
  },
  {
   "cell_type": "code",
   "execution_count": 32,
   "id": "80752530",
   "metadata": {},
   "outputs": [],
   "source": [
    "import matplotlib.pyplot as plt\n",
    "import numpy as np\n",
    "from tensorflow.keras.preprocessing.text import Tokenizer\n",
    "from tensorflow.keras.preprocessing.sequence import pad_sequences"
   ]
  },
  {
   "cell_type": "code",
   "execution_count": 33,
   "id": "7a10da17",
   "metadata": {},
   "outputs": [],
   "source": [
    "X_data = df.comments\n",
    "y_data = df.hate"
   ]
  },
  {
   "cell_type": "code",
   "execution_count": 34,
   "id": "9004994d",
   "metadata": {},
   "outputs": [],
   "source": [
    "vocab_size = 10000\n",
    "tokenizer = Tokenizer(num_words = vocab_size, oov_token='<OOV>')\n",
    "tokenizer.fit_on_texts(X_data)\n",
    "sequences = tokenizer.texts_to_sequences(X_data)"
   ]
  },
  {
   "cell_type": "code",
   "execution_count": 35,
   "id": "3e2d0e66",
   "metadata": {},
   "outputs": [
    {
     "name": "stdout",
     "output_type": "stream",
     "text": [
      "[[843, 1, 5436, 53, 15, 1, 1, 1, 1, 95, 1], [1, 1, 2644, 1, 1, 1, 1, 1], [2645, 1, 3613, 1, 1, 1, 5437, 1, 3614, 1, 1], [1440, 1, 1440, 1, 652, 5, 5438], [36, 116, 1, 1, 1, 1, 1, 1, 401, 1709]]\n"
     ]
    }
   ],
   "source": [
    "print(sequences[:5])"
   ]
  },
  {
   "cell_type": "code",
   "execution_count": 36,
   "id": "b893fc74",
   "metadata": {},
   "outputs": [],
   "source": [
    "n_of_train = int(len(sequences) * 0.8)\n",
    "n_of_test = int(len(sequences) - n_of_train)"
   ]
  },
  {
   "cell_type": "code",
   "execution_count": 37,
   "id": "bf3746ff",
   "metadata": {},
   "outputs": [],
   "source": [
    "X_data = sequences"
   ]
  },
  {
   "cell_type": "code",
   "execution_count": 38,
   "id": "07f387f8",
   "metadata": {},
   "outputs": [],
   "source": [
    "max_len = 216\n",
    "data = pad_sequences(X_data, maxlen = max_len)"
   ]
  },
  {
   "cell_type": "code",
   "execution_count": 39,
   "id": "eea6f963",
   "metadata": {},
   "outputs": [
    {
     "name": "stdout",
     "output_type": "stream",
     "text": [
      "훈련용 이메일 데이터의 크기(shape):  (11353, 216)\n",
      "테스트용 이메일 데이터의 크기(shape):  (2839, 216)\n",
      "훈련용 레이블의 크기(shape):  (11353,)\n",
      "테스트용 레이블의 크기(shape):  (2839,)\n"
     ]
    }
   ],
   "source": [
    "X_test = data[n_of_train:]\n",
    "y_test = np.array(y_data[n_of_train:])\n",
    "X_train = data[:n_of_train]\n",
    "y_train = np.array(y_data[:n_of_train]) \n",
    "print(\"훈련용 이메일 데이터의 크기(shape): \", X_train.shape)\n",
    "print(\"테스트용 이메일 데이터의 크기(shape): \", X_test.shape)\n",
    "print(\"훈련용 레이블의 크기(shape): \", y_train.shape)\n",
    "print(\"테스트용 레이블의 크기(shape): \", y_test.shape)"
   ]
  },
  {
   "cell_type": "code",
   "execution_count": 40,
   "id": "ef213496",
   "metadata": {},
   "outputs": [
    {
     "name": "stdout",
     "output_type": "stream",
     "text": [
      "Model: \"sequential_2\"\n",
      "_________________________________________________________________\n",
      "Layer (type)                 Output Shape              Param #   \n",
      "=================================================================\n",
      "embedding_2 (Embedding)      (None, None, 32)          320000    \n",
      "_________________________________________________________________\n",
      "dropout_4 (Dropout)          (None, None, 32)          0         \n",
      "_________________________________________________________________\n",
      "conv1d_2 (Conv1D)            (None, None, 32)          5152      \n",
      "_________________________________________________________________\n",
      "global_max_pooling1d_2 (Glob (None, 32)                0         \n",
      "_________________________________________________________________\n",
      "dense_4 (Dense)              (None, 64)                2112      \n",
      "_________________________________________________________________\n",
      "dropout_5 (Dropout)          (None, 64)                0         \n",
      "_________________________________________________________________\n",
      "dense_5 (Dense)              (None, 1)                 65        \n",
      "=================================================================\n",
      "Total params: 327,329\n",
      "Trainable params: 327,329\n",
      "Non-trainable params: 0\n",
      "_________________________________________________________________\n",
      "Epoch 1/10\n",
      "142/142 [==============================] - 3s 17ms/step - loss: 0.4470 - acc: 0.8490 - val_loss: 0.6859 - val_acc: 0.6565\n",
      "\n",
      "Epoch 00001: val_acc improved from -inf to 0.65654, saving model to best_model.h5\n",
      "Epoch 2/10\n",
      "142/142 [==============================] - 2s 16ms/step - loss: 0.4173 - acc: 0.8523 - val_loss: 0.6884 - val_acc: 0.6565\n",
      "\n",
      "Epoch 00002: val_acc did not improve from 0.65654\n",
      "Epoch 3/10\n",
      "142/142 [==============================] - 2s 17ms/step - loss: 0.3563 - acc: 0.8624 - val_loss: 0.6303 - val_acc: 0.7085\n",
      "\n",
      "Epoch 00003: val_acc improved from 0.65654 to 0.70850, saving model to best_model.h5\n",
      "Epoch 4/10\n",
      "142/142 [==============================] - 4s 25ms/step - loss: 0.2184 - acc: 0.9205 - val_loss: 0.6969 - val_acc: 0.7186loss: 0.2282 - - ETA: 1s - loss:\n",
      "\n",
      "Epoch 00004: val_acc improved from 0.70850 to 0.71863, saving model to best_model.h5\n",
      "Epoch 5/10\n",
      "142/142 [==============================] - 3s 24ms/step - loss: 0.1358 - acc: 0.9520 - val_loss: 0.8237 - val_acc: 0.7226\n",
      "\n",
      "Epoch 00005: val_acc improved from 0.71863 to 0.72259, saving model to best_model.h5\n",
      "Epoch 6/10\n",
      "142/142 [==============================] - 3s 22ms/step - loss: 0.0979 - acc: 0.9660 - val_loss: 0.9502 - val_acc: 0.7067\n",
      "\n",
      "Epoch 00006: val_acc did not improve from 0.72259\n",
      "Epoch 00006: early stopping\n"
     ]
    }
   ],
   "source": [
    "from tensorflow.keras.layers import Dense, Conv1D, GlobalMaxPooling1D, Embedding, Dropout, MaxPooling1D\n",
    "from tensorflow.keras.models import Sequential\n",
    "from tensorflow.keras.callbacks import EarlyStopping, ModelCheckpoint\n",
    "model = Sequential()\n",
    "model.add(Embedding(vocab_size, 32))\n",
    "model.add(Dropout(0.2))\n",
    "model.add(Conv1D(32, 5, strides=1, padding='valid', activation='relu'))\n",
    "model.add(GlobalMaxPooling1D())\n",
    "model.add(Dense(64, activation='relu'))\n",
    "model.add(Dropout(0.2))\n",
    "model.add(Dense(1, activation='sigmoid'))\n",
    "model.summary()\n",
    "model.compile(optimizer='adam', loss='binary_crossentropy', metrics=['acc'])\n",
    "es = EarlyStopping(monitor = 'val_loss', mode = 'min', verbose = 1, patience = 3)\n",
    "mc = ModelCheckpoint('best_model.h5', monitor = 'val_acc', mode = 'max', verbose = 1, save_best_only = True)\n",
    "history = model.fit(X_train, y_train, epochs = 10, batch_size=64, validation_split=0.2, callbacks=[es, mc])"
   ]
  },
  {
   "cell_type": "code",
   "execution_count": 41,
   "id": "54117020",
   "metadata": {},
   "outputs": [
    {
     "name": "stdout",
     "output_type": "stream",
     "text": [
      "89/89 [==============================] - 0s 2ms/step - loss: 0.9881 - acc: 0.7055\n",
      "\n",
      " 테스트 정확도: 0.7055\n"
     ]
    }
   ],
   "source": [
    "print(\"\\n 테스트 정확도: %.4f\" % (model.evaluate(X_test, y_test)[1]))"
   ]
  }
 ],
 "metadata": {
  "kernelspec": {
   "display_name": "capstone",
   "language": "python",
   "name": "capstone"
  },
  "language_info": {
   "codemirror_mode": {
    "name": "ipython",
    "version": 3
   },
   "file_extension": ".py",
   "mimetype": "text/x-python",
   "name": "python",
   "nbconvert_exporter": "python",
   "pygments_lexer": "ipython3",
   "version": "3.7.11"
  }
 },
 "nbformat": 4,
 "nbformat_minor": 5
}
