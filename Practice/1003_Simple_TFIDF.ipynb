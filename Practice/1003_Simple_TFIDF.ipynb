{
 "cells": [
  {
   "cell_type": "code",
   "execution_count": 1,
   "id": "cc4f0f0e",
   "metadata": {},
   "outputs": [
    {
     "name": "stderr",
     "output_type": "stream",
     "text": [
      "C:\\Users\\siryu\\anaconda3\\envs\\capstone\\lib\\site-packages\\ipykernel_launcher.py:6: FutureWarning: The default value of regex will change from True to False in a future version.\n",
      "  \n"
     ]
    }
   ],
   "source": [
    "import pandas as pd\n",
    "import re\n",
    "pattern = re.compile('[^ㄱ-ㅎㅏ-ㅣ가-힣]')\n",
    "data = open('unlabeled/unlabeled_comments_1.txt', 'r', encoding='utf-8')\n",
    "df = pd.read_csv('hate_train.csv', encoding='ANSI')\n",
    "df['comments'] = df['comments'].str.replace('[^ㄱ-ㅎ ㅏ-ㅣ 가-힣]','')"
   ]
  },
  {
   "cell_type": "code",
   "execution_count": 2,
   "id": "158b5338",
   "metadata": {},
   "outputs": [
    {
     "data": {
      "text/html": [
       "<div>\n",
       "<style scoped>\n",
       "    .dataframe tbody tr th:only-of-type {\n",
       "        vertical-align: middle;\n",
       "    }\n",
       "\n",
       "    .dataframe tbody tr th {\n",
       "        vertical-align: top;\n",
       "    }\n",
       "\n",
       "    .dataframe thead th {\n",
       "        text-align: right;\n",
       "    }\n",
       "</style>\n",
       "<table border=\"1\" class=\"dataframe\">\n",
       "  <thead>\n",
       "    <tr style=\"text-align: right;\">\n",
       "      <th></th>\n",
       "      <th>comments</th>\n",
       "      <th>hate</th>\n",
       "    </tr>\n",
       "  </thead>\n",
       "  <tbody>\n",
       "    <tr>\n",
       "      <th>0</th>\n",
       "      <td>현재 호텔주인 심정 아 난 마른하늘에 날벼락맞고 호텔망하게생겼는데 누군 계속 추모받네</td>\n",
       "      <td>1</td>\n",
       "    </tr>\n",
       "    <tr>\n",
       "      <th>1</th>\n",
       "      <td>한국적인 미인의 대표적인 분너무나 곱고아름다운모습그모습뒤의 슬픔을 미처 알지못했네요ㅠ</td>\n",
       "      <td>0</td>\n",
       "    </tr>\n",
       "    <tr>\n",
       "      <th>2</th>\n",
       "      <td>못된 넘들남의 고통을 즐겼던 넘들이젠 마땅한 처벌을 받아야지그래야 공정한 사회지심은...</td>\n",
       "      <td>1</td>\n",
       "    </tr>\n",
       "    <tr>\n",
       "      <th>3</th>\n",
       "      <td>화 어설펐는데 화 지나서부터는 갈수록 너무 재밌던데</td>\n",
       "      <td>0</td>\n",
       "    </tr>\n",
       "    <tr>\n",
       "      <th>4</th>\n",
       "      <td>사람 얼굴 손톱으로 긁은것은 인격살해이고 동영상이 몰카냐 메걸리안들 생각이 없노</td>\n",
       "      <td>1</td>\n",
       "    </tr>\n",
       "    <tr>\n",
       "      <th>...</th>\n",
       "      <td>...</td>\n",
       "      <td>...</td>\n",
       "    </tr>\n",
       "    <tr>\n",
       "      <th>14187</th>\n",
       "      <td>좌우 헬파이어 개씩 개 장착에 아파치보다 약하지만  기관포 장착임</td>\n",
       "      <td>0</td>\n",
       "    </tr>\n",
       "    <tr>\n",
       "      <th>14188</th>\n",
       "      <td>세금 내놓으라고 데모질 중 ㅋㅋ간첩 도둑놈 새끼들이 대통령 해처먹으니까  나도 같이...</td>\n",
       "      <td>1</td>\n",
       "    </tr>\n",
       "    <tr>\n",
       "      <th>14189</th>\n",
       "      <td>너가 한 말 중에</td>\n",
       "      <td>0</td>\n",
       "    </tr>\n",
       "    <tr>\n",
       "      <th>14190</th>\n",
       "      <td>제갈대중 ㅇㅂ</td>\n",
       "      <td>0</td>\n",
       "    </tr>\n",
       "    <tr>\n",
       "      <th>14191</th>\n",
       "      <td>우리나라교회는 악마들이모여 주뎅이 처벌리고</td>\n",
       "      <td>1</td>\n",
       "    </tr>\n",
       "  </tbody>\n",
       "</table>\n",
       "<p>14192 rows × 2 columns</p>\n",
       "</div>"
      ],
      "text/plain": [
       "                                                comments  hate\n",
       "0        현재 호텔주인 심정 아 난 마른하늘에 날벼락맞고 호텔망하게생겼는데 누군 계속 추모받네     1\n",
       "1        한국적인 미인의 대표적인 분너무나 곱고아름다운모습그모습뒤의 슬픔을 미처 알지못했네요ㅠ     0\n",
       "2      못된 넘들남의 고통을 즐겼던 넘들이젠 마땅한 처벌을 받아야지그래야 공정한 사회지심은...     1\n",
       "3                           화 어설펐는데 화 지나서부터는 갈수록 너무 재밌던데     0\n",
       "4           사람 얼굴 손톱으로 긁은것은 인격살해이고 동영상이 몰카냐 메걸리안들 생각이 없노     1\n",
       "...                                                  ...   ...\n",
       "14187               좌우 헬파이어 개씩 개 장착에 아파치보다 약하지만  기관포 장착임     0\n",
       "14188  세금 내놓으라고 데모질 중 ㅋㅋ간첩 도둑놈 새끼들이 대통령 해처먹으니까  나도 같이...     1\n",
       "14189                                          너가 한 말 중에     0\n",
       "14190                                            제갈대중 ㅇㅂ     0\n",
       "14191                           우리나라교회는 악마들이모여 주뎅이 처벌리고      1\n",
       "\n",
       "[14192 rows x 2 columns]"
      ]
     },
     "execution_count": 2,
     "metadata": {},
     "output_type": "execute_result"
    }
   ],
   "source": [
    "df"
   ]
  },
  {
   "cell_type": "code",
   "execution_count": 3,
   "id": "9b891e07",
   "metadata": {},
   "outputs": [
    {
     "data": {
      "text/plain": [
       "(array([11060.,  3132.]),\n",
       " array([0. , 0.5, 1. ]),\n",
       " <BarContainer object of 2 artists>)"
      ]
     },
     "execution_count": 3,
     "metadata": {},
     "output_type": "execute_result"
    },
    {
     "data": {
      "image/png": "[encoded data removed]",
      "text/plain": [
       "<Figure size 432x288 with 1 Axes>"
      ]
     },
     "metadata": {
      "needs_background": "light"
     },
     "output_type": "display_data"
    }
   ],
   "source": [
    "from matplotlib import pyplot as plt\n",
    "\n",
    "plt.hist(df.hate, bins=2)"
   ]
  },
  {
   "cell_type": "code",
   "execution_count": 4,
   "id": "30eb96d0",
   "metadata": {},
   "outputs": [],
   "source": [
    "import sklearn\n",
    "import sklearn.metrics\n",
    "from sklearn.feature_extraction.text import TfidfVectorizer"
   ]
  },
  {
   "cell_type": "code",
   "execution_count": 5,
   "id": "ae3d5671",
   "metadata": {},
   "outputs": [],
   "source": [
    "data = df.comments\n",
    "target = df.hate"
   ]
  },
  {
   "cell_type": "code",
   "execution_count": 6,
   "id": "c05e4130",
   "metadata": {},
   "outputs": [],
   "source": [
    "stopwords=['에게', '를', '의', '로', '으로', '고', '하고', '듯', '인', '하는', '와', '과', '을', '들', '임', '게', '면', '가', '이가',\n",
    "             '도', '마저', '한', '면', '네', '이', '는', '하', '다', '은', '지', '에', '거', '나', '보', '는데', '아', '나', '만', '에서',\n",
    "             '음', '니', '냐', '만', ]"
   ]
  },
  {
   "cell_type": "code",
   "execution_count": 7,
   "id": "e8a1217c",
   "metadata": {},
   "outputs": [],
   "source": [
    "vectorizer = TfidfVectorizer(min_df=10, stop_words=stopwords)\n",
    "X = vectorizer.fit_transform(data)"
   ]
  },
  {
   "cell_type": "code",
   "execution_count": 8,
   "id": "980c4aee",
   "metadata": {},
   "outputs": [],
   "source": [
    "from sklearn.naive_bayes import MultinomialNB"
   ]
  },
  {
   "cell_type": "code",
   "execution_count": 9,
   "id": "0067aaed",
   "metadata": {},
   "outputs": [
    {
     "data": {
      "text/plain": [
       "MultinomialNB()"
      ]
     },
     "execution_count": 9,
     "metadata": {},
     "output_type": "execute_result"
    }
   ],
   "source": [
    "clf = MultinomialNB()\n",
    "clf.fit(X, target)"
   ]
  },
  {
   "cell_type": "code",
   "execution_count": 10,
   "id": "67f37064",
   "metadata": {},
   "outputs": [],
   "source": [
    "pred = clf.predict(X)"
   ]
  },
  {
   "cell_type": "code",
   "execution_count": 11,
   "id": "5d0ebc34",
   "metadata": {},
   "outputs": [
    {
     "name": "stdout",
     "output_type": "stream",
     "text": [
      "Accuracy:  0.8153889515219842\n",
      "Confusion Matrix: \n",
      " [[11008    52]\n",
      " [ 2568   564]]\n"
     ]
    }
   ],
   "source": [
    "print(\"Accuracy: \", sklearn.metrics.accuracy_score(target, pred))\n",
    "print('Confusion Matrix: \\n', sklearn.metrics.confusion_matrix(target, pred))"
   ]
  },
  {
   "cell_type": "code",
   "execution_count": 68,
   "id": "2cdfec8f",
   "metadata": {},
   "outputs": [],
   "source": [
    "text='ㅅㅂ 진짜 개빡치네'\n",
    "sample = vectorizer.transform([text])[0]"
   ]
  },
  {
   "cell_type": "code",
   "execution_count": 69,
   "id": "5db00d86",
   "metadata": {},
   "outputs": [],
   "source": [
    "import numpy as np\n",
    "pred_label = np.argmax(clf.predict_proba(sample)[0])"
   ]
  },
  {
   "cell_type": "code",
   "execution_count": 71,
   "id": "f244ca19",
   "metadata": {},
   "outputs": [
    {
     "data": {
      "text/plain": [
       "array([[0.11176009, 0.88823991]])"
      ]
     },
     "execution_count": 71,
     "metadata": {},
     "output_type": "execute_result"
    }
   ],
   "source": [
    "clf.predict_proba(sample)"
   ]
  },
  {
   "cell_type": "code",
   "execution_count": 72,
   "id": "c1f2da15",
   "metadata": {},
   "outputs": [
    {
     "name": "stdout",
     "output_type": "stream",
     "text": [
      "88.82% 확률로 욕설 문장입니다.\n"
     ]
    }
   ],
   "source": [
    "if pred_label == 1:\n",
    "    print(\"%.2f%% 확률로 욕설 문장입니다.\" % (clf.predict_proba(sample)[0][1] * 100))\n",
    "else:\n",
    "    print('%.2f%% 확률로 일반 문장입니다.' % (clf.predict_proba(sample)[0][0] * 100))"
   ]
  }
 ],
 "metadata": {
  "kernelspec": {
   "display_name": "capstone",
   "language": "python",
   "name": "capstone"
  },
  "language_info": {
   "codemirror_mode": {
    "name": "ipython",
    "version": 3
   },
   "file_extension": ".py",
   "mimetype": "text/x-python",
   "name": "python",
   "nbconvert_exporter": "python",
   "pygments_lexer": "ipython3",
   "version": "3.7.11"
  }
 },
 "nbformat": 4,
 "nbformat_minor": 5
}
